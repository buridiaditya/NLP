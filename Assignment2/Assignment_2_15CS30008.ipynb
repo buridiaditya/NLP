{
 "cells": [
  {
   "cell_type": "code",
   "execution_count": 16,
   "metadata": {},
   "outputs": [],
   "source": [
    "from nltk.corpus import treebank,brown\n",
    "import math\n",
    "import scipy\n",
    "from sklearn.metrics import make_scorer\n",
    "from sklearn.grid_search import RandomizedSearchCV"
   ]
  },
  {
   "cell_type": "code",
   "execution_count": 2,
   "metadata": {},
   "outputs": [
    {
     "name": "stdout",
     "output_type": "stream",
     "text": [
      "57240\n",
      "100\n"
     ]
    }
   ],
   "source": [
    "corpus = brown.tagged_sents(tagset='universal')\n",
    "train_data = corpus[:-100] \n",
    "test_data = corpus[-100:]\n",
    "\n",
    "print(len(train_data))\n",
    "print(len(test_data))"
   ]
  },
  {
   "cell_type": "code",
   "execution_count": 3,
   "metadata": {},
   "outputs": [],
   "source": [
    "#HMM\n",
    "\n",
    "class HMM():\n",
    "    def __init__(self,laplace_constant=0.5):\n",
    "        self.P = {}\n",
    "        self.O = {}\n",
    "        self.S = {}\n",
    "        self.laplace_constant = 0.5\n",
    "\n",
    "    def train(self,train_data):\n",
    "        \n",
    "        self.tag_dict={}\n",
    "        self.word_dict={}\n",
    "\n",
    "        for sent in train_data:\n",
    "            for elem in sent:\n",
    "                w = elem[0]\n",
    "                tag= elem[1]\n",
    "\n",
    "                if w not in self.word_dict:\n",
    "                    self.word_dict[w]=0\n",
    "\n",
    "                if tag not in self.tag_dict:\n",
    "                    self.tag_dict[tag]=0\n",
    "\n",
    "                self.word_dict[w]+=1\n",
    "                self.tag_dict[tag]+=1\n",
    "   \n",
    "        for sent in train_data:\n",
    "            for i in range(len(sent)-1):\n",
    "                word = sent[i]\n",
    "                if i == 0:\n",
    "                    if word[1] not in self.S:\n",
    "                        self.S[word[1]] = 1\n",
    "                    else:\n",
    "                        self.S[word[1]] += 1\n",
    "                word2 = sent[i+1]\n",
    "                if (word[1],word2[1]) not in self.P:\n",
    "                    self.P[(word[1],word2[1])] = 1\n",
    "                else:\n",
    "                    self.P[(word[1],word2[1])] += 1\n",
    "                if (word[1],word[0]) not in self.O:\n",
    "                    self.O[(word[1],word[0])] = 1\n",
    "                else:\n",
    "                    self.O[(word[1],word[0])] += 1\n",
    "                    \n",
    "        for (s,s_1) in self.P:\n",
    "            self.P[(s,s_1)] /= float(self.tag_dict[s])\n",
    "\n",
    "        for (s,v) in self.O:\n",
    "            self.O[(s,v)] /= float(self.tag_dict[s])\n",
    "\n",
    "        for s in self.S:\n",
    "            self.S[s] /= float(self.tag_dict[s])\n",
    "            \n",
    "            \n",
    "    def transition(self,s1,s2):\n",
    "        if (s1,s2) not in self.P:\n",
    "            return self.laplace_constant/(self.laplace_constant*len(self.tag_dict) + self.queryTag(s1))\n",
    "        else:\n",
    "            return self.P[(s1,s2)]\n",
    "    \n",
    "    def emission(self,s1,v1):\n",
    "        if (s1,v1) not in self.O:\n",
    "            return self.laplace_constant/(self.laplace_constant*len(self.tag_dict) + self.queryTag(s1))\n",
    "        else:\n",
    "            return self.O[(s1,v1)]\n",
    "        \n",
    "    def start(self,s):\n",
    "        if s not in self.S:\n",
    "            return 1.0/len(self.tag_dict)\n",
    "        else:\n",
    "            return self.S[s]\n",
    "        \n",
    "    def getTags(self):\n",
    "        return self.tag_dict\n",
    "    \n",
    "    def getWords(self):\n",
    "        return self.word_dict\n",
    "    \n",
    "    def queryTag(self,s):\n",
    "        if s not in self.tag_dict:\n",
    "            return 0\n",
    "        else:\n",
    "            return self.tag_dict[s]"
   ]
  },
  {
   "cell_type": "code",
   "execution_count": 4,
   "metadata": {},
   "outputs": [],
   "source": [
    "model = HMM()\n",
    "model.train(train_data)"
   ]
  },
  {
   "cell_type": "code",
   "execution_count": 5,
   "metadata": {},
   "outputs": [],
   "source": [
    "#print(P)"
   ]
  },
  {
   "cell_type": "code",
   "execution_count": 6,
   "metadata": {},
   "outputs": [],
   "source": [
    "#print(O)"
   ]
  },
  {
   "cell_type": "code",
   "execution_count": 7,
   "metadata": {},
   "outputs": [
    {
     "name": "stdout",
     "output_type": "stream",
     "text": [
      "DET\n",
      "NOUN\n",
      "ADJ\n",
      "VERB\n",
      "ADP\n",
      ".\n",
      "ADV\n",
      "CONJ\n",
      "PRT\n",
      "PRON\n",
      "NUM\n",
      "X\n"
     ]
    }
   ],
   "source": [
    "#print(S)\n",
    "tag_set = model.getTags()\n",
    "for t in tag_set:\n",
    "    print(t)"
   ]
  },
  {
   "cell_type": "code",
   "execution_count": null,
   "metadata": {},
   "outputs": [],
   "source": [
    "tag_set = model.getTags()\n",
    "\n",
    "for sent in test_data:\n",
    "    V = {}\n",
    "    V_1 = {}\n",
    "    \n",
    "    maxi = 0\n",
    "    decisions = []\n",
    "\n",
    "    for t in tag_set:\n",
    "        V[t] = math.log(model.start(t))\n",
    "\n",
    "    for wordT in sent:        \n",
    "        word = wordT[0]\n",
    "        decision = {}\n",
    "        for t in tag_set:\n",
    "            maxi = None\n",
    "            for t2 in tag_set:\n",
    "                value = V[t2] + math.log(model.transition(t2,t)) + math.log(model.emission(t2,word))\n",
    "                if maxi == None:\n",
    "                    maxi = value\n",
    "                    decision[t] = t2\n",
    "                if value > maxi:\n",
    "                    maxi = value\n",
    "                    decision[t] = t2\n",
    "            V_1[t] = maxi\n",
    "            \n",
    "        decisions.append(decision)         \n",
    "        V = V_1.copy()\n",
    "        #print(V)\n",
    "    #print( sent)\n",
    "    \n",
    "    maxi = None\n",
    "    dec = None\n",
    "    \n",
    "    #print (decisions)\n",
    "    for t in tag_set:\n",
    "        if maxi == None:\n",
    "            maxi = V[t]\n",
    "            decision[t] = t\n",
    "            dec = t\n",
    "        if V[t] > maxi:\n",
    "            maxi = V[t]\n",
    "            dec = t\n",
    "\n",
    "    bestSeq = []\n",
    "    bestSeq.append(dec)\n",
    "    \n",
    "    for i in range(len(decisions)-1,-1,-1):\n",
    "        dec = decisions[i][dec]\n",
    "        bestSeq.append(dec)\n",
    "        \n",
    "    print(sent)\n",
    "    bestSeq.reverse()\n",
    "    print(bestSeq)\n",
    "    \n",
    "    "
   ]
  },
  {
   "cell_type": "code",
   "execution_count": 9,
   "metadata": {},
   "outputs": [],
   "source": [
    "\n",
    "import sklearn_crfsuite\n",
    "from sklearn_crfsuite import scorers\n",
    "from sklearn_crfsuite import metrics\n",
    "\n",
    "def word2features(sent,i):\n",
    "    word = sent[i][0]\n",
    "    \n",
    "    features ={\n",
    "    'bias': 1.0,\n",
    "    'word.lower()': word.lower(),\n",
    "    'word[-3:]': word[-3:], # last 2 letters for checking verb forms and adjectives\n",
    "    'word[-2:]': word[-2:], # last 2 letters for checking verb forms and adjectives\n",
    "    'word.isupper()': word.isupper(), # Acronyms\n",
    "    'word.istitle()': word.istitle(), # Propernouns\n",
    "    'word.isdigit()': word.isdigit(), # Numbers\n",
    "    }\n",
    "                \n",
    "    return features\n",
    "\n",
    "def sent2features(sent):\n",
    "    return [word2features(sent,i) for i in range(len(sent))]\n",
    "\n",
    "def sent2labels(sent):\n",
    "    return [label for i,label in sent]\n",
    "\n"
   ]
  },
  {
   "cell_type": "code",
   "execution_count": 10,
   "metadata": {},
   "outputs": [],
   "source": [
    "X_train=[sent2features(s) for s in train_data]\n",
    "y_train=[sent2labels(s) for s in train_data]\n",
    "\n",
    "X_test=[sent2features(s) for s in test_data]\n",
    "y_test=[sent2labels(s) for s in test_data]\n",
    "\n"
   ]
  },
  {
   "cell_type": "code",
   "execution_count": 11,
   "metadata": {},
   "outputs": [
    {
     "data": {
      "text/plain": [
       "CRF(algorithm='lbfgs', all_possible_states=None,\n",
       "  all_possible_transitions=True, averaging=None, c=None, c1=None, c2=None,\n",
       "  calibration_candidates=None, calibration_eta=None,\n",
       "  calibration_max_trials=None, calibration_rate=None,\n",
       "  calibration_samples=None, delta=None, epsilon=None, error_sensitive=None,\n",
       "  gamma=None, keep_tempfiles=None, linesearch=None, max_iterations=100,\n",
       "  max_linesearch=None, min_freq=None, model_filename=None,\n",
       "  num_memories=None, pa_type=None, period=None, trainer_cls=None,\n",
       "  variance=None, verbose=False)"
      ]
     },
     "execution_count": 11,
     "metadata": {},
     "output_type": "execute_result"
    }
   ],
   "source": [
    "\n",
    "crf = sklearn_crfsuite.CRF(\n",
    "    algorithm='lbfgs', \n",
    "\n",
    "    max_iterations=100, \n",
    "    all_possible_transitions=True\n",
    ")\n",
    "crf.fit(X_train, y_train)"
   ]
  },
  {
   "cell_type": "code",
   "execution_count": 12,
   "metadata": {},
   "outputs": [
    {
     "name": "stderr",
     "output_type": "stream",
     "text": [
      "/home/buridi/anaconda3/envs/nlp/lib/python3.6/site-packages/sklearn/metrics/classification.py:1135: UndefinedMetricWarning: F-score is ill-defined and being set to 0.0 in labels with no predicted samples.\n",
      "  'precision', 'predicted', average, warn_for)\n"
     ]
    },
    {
     "data": {
      "text/plain": [
       "0.9337113931601664"
      ]
     },
     "execution_count": 12,
     "metadata": {},
     "output_type": "execute_result"
    }
   ],
   "source": [
    "y_pred = crf.predict(X_test)\n",
    "labels=list(crf.classes_)\n",
    "\n",
    "metrics.flat_f1_score(y_test, y_pred, \n",
    "                      average='weighted', labels=labels)"
   ]
  },
  {
   "cell_type": "code",
   "execution_count": 13,
   "metadata": {},
   "outputs": [
    {
     "name": "stdout",
     "output_type": "stream",
     "text": [
      "             precision    recall  f1-score   support\n",
      "\n",
      "          .      1.000     1.000     1.000       334\n",
      "          X      0.000     0.000     0.000        17\n",
      "        ADJ      0.820     0.750     0.784       140\n",
      "        ADP      0.958     0.972     0.965       283\n",
      "        ADV      0.877     0.806     0.840       124\n",
      "       VERB      0.947     0.924     0.936       370\n",
      "        DET      0.993     0.993     0.993       295\n",
      "       CONJ      1.000     1.000     1.000        84\n",
      "       NOUN      0.872     0.961     0.914       483\n",
      "       PRON      0.981     0.956     0.968       160\n",
      "        PRT      0.901     0.914     0.908        70\n",
      "        NUM      0.947     0.857     0.900        21\n",
      "\n",
      "avg / total      0.931     0.937     0.934      2381\n",
      "\n"
     ]
    },
    {
     "name": "stderr",
     "output_type": "stream",
     "text": [
      "/home/buridi/anaconda3/envs/nlp/lib/python3.6/site-packages/sklearn/metrics/classification.py:1135: UndefinedMetricWarning: Precision and F-score are ill-defined and being set to 0.0 in labels with no predicted samples.\n",
      "  'precision', 'predicted', average, warn_for)\n"
     ]
    }
   ],
   "source": [
    "sorted_labels = sorted(\n",
    "    labels, \n",
    "    key=lambda name: (name[1:], name[0])\n",
    ")\n",
    "print(metrics.flat_classification_report(\n",
    "    y_test, y_pred, labels=sorted_labels, digits=3\n",
    "))"
   ]
  },
  {
   "cell_type": "code",
   "execution_count": null,
   "metadata": {},
   "outputs": [
    {
     "name": "stdout",
     "output_type": "stream",
     "text": [
      "Fitting 3 folds for each of 50 candidates, totalling 150 fits\n"
     ]
    }
   ],
   "source": [
    "crf = sklearn_crfsuite.CRF(\n",
    "    algorithm='lbfgs', \n",
    "    max_iterations=100, \n",
    "    all_possible_transitions=True\n",
    ")\n",
    "\n",
    "params_space = {\n",
    "    'c1': scipy.stats.expon(scale=0.5),\n",
    "    'c2': scipy.stats.expon(scale=0.05),\n",
    "}\n",
    "\n",
    "# use the same metric for evaluation\n",
    "f1_scorer = make_scorer(metrics.flat_f1_score,\n",
    "                        average='weighted', labels=labels)\n",
    "\n",
    "# search\n",
    "rs = RandomizedSearchCV(crf, params_space,\n",
    "                        cv=3,\n",
    "                        verbose=1,\n",
    "                        n_jobs=1,\n",
    "                        n_iter=50,\n",
    "                        scoring=f1_scorer)\n",
    "rs.fit(X_train, y_train)\n",
    "\n"
   ]
  },
  {
   "cell_type": "code",
   "execution_count": null,
   "metadata": {},
   "outputs": [],
   "source": [
    "crf = rs.best_estimator_\n",
    "y_pred = crf.predict(X_test)\n",
    "print(metrics.flat_classification_report(\n",
    "    y_test, y_pred, labels=sorted_labels, digits=3\n",
    "))"
   ]
  },
  {
   "cell_type": "code",
   "execution_count": null,
   "metadata": {},
   "outputs": [],
   "source": []
  }
 ],
 "metadata": {
  "kernelspec": {
   "display_name": "Python 3",
   "language": "python",
   "name": "python3"
  },
  "language_info": {
   "codemirror_mode": {
    "name": "ipython",
    "version": 3
   },
   "file_extension": ".py",
   "mimetype": "text/x-python",
   "name": "python",
   "nbconvert_exporter": "python",
   "pygments_lexer": "ipython3",
   "version": "3.6.1"
  }
 },
 "nbformat": 4,
 "nbformat_minor": 2
}
