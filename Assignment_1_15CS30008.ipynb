{
 "cells": [
  {
   "cell_type": "code",
   "execution_count": 4,
   "metadata": {},
   "outputs": [],
   "source": [
    "import nltk \n",
    "from nltk.corpus import brown\n",
    "from nltk import bigrams, ngrams, trigrams \n",
    "from string import punctuation\n",
    "import numpy as np\n",
    "import math\n"
   ]
  },
  {
   "cell_type": "code",
   "execution_count": 5,
   "metadata": {},
   "outputs": [
    {
     "name": "stdout",
     "output_type": "stream",
     "text": [
      "Dataset loaded with 57340 no of sentences.\n"
     ]
    }
   ],
   "source": [
    "dataset = brown.sents()\n",
    "print(\"Dataset loaded with %d no of sentences.\"%len(dataset))"
   ]
  },
  {
   "cell_type": "code",
   "execution_count": 6,
   "metadata": {},
   "outputs": [
    {
     "name": "stdout",
     "output_type": "stream",
     "text": [
      "Data preprocessed with special characters removed.\n"
     ]
    }
   ],
   "source": [
    "dataProcessed = [ [word.lower() for word in sentence if word not in punctuation] for sentence in dataset ]\n",
    "print(\"Data preprocessed with special characters removed.\")"
   ]
  },
  {
   "cell_type": "code",
   "execution_count": 7,
   "metadata": {},
   "outputs": [
    {
     "name": "stdout",
     "output_type": "stream",
     "text": [
      "Train data :  40000\n"
     ]
    }
   ],
   "source": [
    "train = dataProcessed[0:40000]\n",
    "test = dataProcessed[40000:]\n",
    "print(\"Train data : \",40000)\n"
   ]
  },
  {
   "cell_type": "code",
   "execution_count": 57,
   "metadata": {},
   "outputs": [],
   "source": [
    "class LanguageModel():\n",
    "    \n",
    "    def __init__(self,sentences,n_gram,smoothing='none',laplace_constant=0.5):\n",
    "        self.smoothing = smoothing\n",
    "        self.modelDictionary={}\n",
    "        self.laplace_constant=laplace_constant\n",
    "        if n_gram == 1:\n",
    "            self.unigramModel(sentences)\n",
    "        elif n_gram == 2:\n",
    "            self.bigramModel(sentences)\n",
    "        elif n_gram == 3:\n",
    "            self.trigramModel(sentences)\n",
    "        \n",
    "    def bigramModel(self,sentences):\n",
    "        model = {}\n",
    "        for sent in sentences:\n",
    "            for w1,w2 in ngrams(sent, 2, pad_left = True, pad_right = True, left_pad_symbol='<s>',right_pad_symbol='</s>'):\n",
    "                if w1 in model:\n",
    "                    if w2 in model[w1]:\n",
    "                        model[w1][w2] += 1\n",
    "                        self.modelDictionary[(w1,w2)] += 1\n",
    "                    else:\n",
    "                        model[w1][w2] = 1\n",
    "                        self.modelDictionary[(w1,w2)] = 1\n",
    "                else:\n",
    "                    model[w1] = {}\n",
    "                    model[w1][w2] = 1\n",
    "                    self.modelDictionary[(w1,w2)] = 1\n",
    "\n",
    "        un = len(self.modelDictionary)\n",
    "        for w1 in model:\n",
    "            subcount = float(sum(model[w1].values()))\n",
    "            for w2 in model[w1]:\n",
    "                if self.smoothing == 'none':\n",
    "                    model[w1][w2] /= subcount\n",
    "                    self.modelDictionary[(w1,w2)] /= subcount\n",
    "                elif self.smoothing == 'laplace':\n",
    "                    model[w1][w2] += self.laplace_constant\n",
    "                    model[w1][w2] /= (self.laplace_constant*un + subcount)\n",
    "                    self.modelDictionary[(w1,w2)] += self.laplace_constant\n",
    "                    self.modelDictionary[(w1,w2)] /= (self.laplace_constant*un + subcount)\n",
    "\n",
    "    \n",
    "    def unigramModel(self,sentences):\n",
    "        count = 0\n",
    "        for sent in sentences:\n",
    "            for w in ngrams(sent,1):\n",
    "                count += 1\n",
    "                if w in self.modelDictionary:\n",
    "                    self.modelDictionary[w] += 1\n",
    "                else:\n",
    "                    self.modelDictionary[w] = 1\n",
    "\n",
    "        for w in self.modelDictionary:\n",
    "            if self.smoothing == 'laplace':\n",
    "                self.modelDictionary[w] += self.laplace_constant\n",
    "                self.modelDictionary[w] /= (self.laplace_constant*count + count)\n",
    "            else:\n",
    "                self.modelDictionary[w] /= (count)\n",
    "\n",
    "    def trigramModel(self,sentences):\n",
    "        model = {}\n",
    "\n",
    "        for sent in sentences:\n",
    "            for w1,w2,w3 in ngrams(sent, 3, pad_left = True, pad_right = True, left_pad_symbol='<s>',right_pad_symbol='</s>'):\n",
    "                if w1 in model:\n",
    "                    if w2 in model[w1]:\n",
    "                        if w3 in model[w1][w2]:\n",
    "                            model[w1][w2][w3] += 1\n",
    "                            self.modelDictionary[(w1,w2,w3)] += 1\n",
    "                        else:\n",
    "                            model[w1][w2][w3] = 1\n",
    "                            self.modelDictionary[(w1,w2,w3)] = 1\n",
    "                    else:\n",
    "                        model[w1][w2] = {}\n",
    "                        model[w1][w2][w3] = 1\n",
    "                        self.modelDictionary[(w1,w2,w3)] = 1\n",
    "                else:\n",
    "                    model[w1] = {}\n",
    "                    model[w1][w2] = {}\n",
    "                    model[w1][w2][w3] = 1\n",
    "                    self.modelDictionary[(w1,w2,w3)] = 1\n",
    "        un = len(self.modelDictionary)\n",
    "        for w1 in model:\n",
    "            for w2 in model[w1]:\n",
    "                subcount = float(sum(model[w1][w2].values()))\n",
    "                for w3 in model[w1][w2]:\n",
    "                    if self.smoothing == 'none':\n",
    "                        model[w1][w2][w3] /= subcount\n",
    "                        self.modelDictionary[(w1,w2,w3)] /= subcount\n",
    "                    elif self.smoothing == 'laplace':\n",
    "                        model[w1][w2][w3] += self.laplace_constant\n",
    "                        model[w1][w2][w3] /= (self.laplace_constant*un + subcount)\n",
    "                        self.modelDictionary[(w1,w2,w3)] += self.laplace_constant\n",
    "                        self.modelDictionary[(w1,w2,w3)] /= (self.laplace_constant*un + subcount)\n",
    "\n",
    "    def query(self,key):\n",
    "        if key not in self.modelDictionary:\n",
    "            if self.smoothing == 'laplace':\n",
    "                return 1/len(self.modelDictionary)\n",
    "            else:\n",
    "                return 0\n",
    "        else:\n",
    "            return self.modelDictionary[key]\n",
    "    \n",
    "    def keys(self):\n",
    "        return self.modelDictionary.keys()\n",
    "    \n",
    "    def items(self):\n",
    "        return self.modelDictionary.items()\n",
    "    \n",
    "    def values(self):\n",
    "        return self.modelDictionary.values()"
   ]
  },
  {
   "cell_type": "code",
   "execution_count": 68,
   "metadata": {},
   "outputs": [],
   "source": [
    "#Task 1\n",
    "ug = LanguageModel(train,1)\n",
    "bg = LanguageModel(train,2)\n",
    "tg = LanguageModel(train,3)"
   ]
  },
  {
   "cell_type": "code",
   "execution_count": 69,
   "metadata": {},
   "outputs": [],
   "source": [
    "# Task 1\n",
    "# Zif's law verification\n",
    "#for w in unigramLM:\n",
    "# TODO\n",
    "   "
   ]
  },
  {
   "cell_type": "code",
   "execution_count": 70,
   "metadata": {},
   "outputs": [
    {
     "name": "stdout",
     "output_type": "stream",
     "text": [
      "{('the',): 0.07093622801935767, ('of',): 0.039303455703185775, ('and',): 0.02776098733658642, ('to',): 0.02555428353127902, ('in',): 0.02223794449813197, ('a',): 0.022168827921086463, ('is',): 0.01190564456234755, ('that',): 0.010354919906453855, ('for',): 0.00978565064460633, ('it',): 0.007604080140042752}\n",
      "{('term-end', 'presentments'): 1.0, ('presentments', 'that'): 1.0, ('september-october', 'term'): 1.0, ('durwood', 'pye'): 1.0, ('pye', 'to'): 1.0, ('mayor-nominate', 'ivan'): 1.0, ('implementation', 'of'): 1.0, ('re-set', 'the'): 1.0, ('swipe', 'at'): 1.0, ('disable', 'this'): 1.0}\n",
      "{('county', 'grand', 'jury'): 1.0, ('friday', 'an', 'investigation'): 1.0, ('of', \"atlanta's\", 'recent'): 1.0, (\"atlanta's\", 'recent', 'primary'): 1.0, ('recent', 'primary', 'election'): 1.0, ('election', 'produced', '``'): 1.0, ('produced', '``', 'no'): 1.0, ('any', 'irregularities', 'took'): 1.0, ('irregularities', 'took', 'place'): 1.0, ('place', '</s>', '</s>'): 1.0}\n"
     ]
    }
   ],
   "source": [
    "# Task 1\n",
    "# Top 10 unigrams, bigrams, trigrams\n",
    "top10Uni = dict(sorted(ug.items(), key=lambda x: x[1], reverse=True)[:10])\n",
    "top10Bi = dict(sorted(bg.items(), key=lambda x: x[1], reverse=True)[:10])\n",
    "top10Tri = dict(sorted(tg.items(), key=lambda x: x[1], reverse=True)[:10])\n",
    "print(top10Uni)\n",
    "print(top10Bi)\n",
    "print(top10Tri)"
   ]
  },
  {
   "cell_type": "code",
   "execution_count": 71,
   "metadata": {},
   "outputs": [
    {
     "name": "stdout",
     "output_type": "stream",
     "text": [
      "[['he', 'lived', 'a', 'good', 'life'], ['the', 'man', 'was', 'happy'], ['the', 'person', 'was', 'good'], ['the', 'girl', 'was', 'sad'], ['he', 'won', 'the', 'war']]\n"
     ]
    }
   ],
   "source": [
    "# Task 1\n",
    "# Test cases\n",
    "fd = open('test_cases.txt','r')\n",
    "testcases = [sent.split() for sent in fd]\n",
    "print(testcases)    "
   ]
  },
  {
   "cell_type": "code",
   "execution_count": 72,
   "metadata": {},
   "outputs": [
    {
     "name": "stdout",
     "output_type": "stream",
     "text": [
      "[-32.83424838102342, -24.091989655768156, -23.4166871259785, -27.32603162480786, -24.734905768951318]\n"
     ]
    }
   ],
   "source": [
    "#Task 1\n",
    "#Log likelihood\n",
    "\n",
    "#Unigram      \n",
    "unigramLLH1 = []\n",
    "for sent in testcases:\n",
    "    prob = 1\n",
    "    for word in ngrams(sent,1):\n",
    "        prob *= ug.query(word)\n",
    "    if prob == 0:\n",
    "        unigramLLH1.append(-float('Inf'))\n",
    "    else:\n",
    "        unigramLLH1.append(math.log(prob))\n",
    "        \n",
    "print(unigramLLH1)"
   ]
  },
  {
   "cell_type": "code",
   "execution_count": 73,
   "metadata": {},
   "outputs": [
    {
     "name": "stdout",
     "output_type": "stream",
     "text": [
      "[-26.86317000488739, -22.339591199881653, -24.838201556634292, -inf, -21.15431998899194]\n"
     ]
    }
   ],
   "source": [
    "#Bigram\n",
    "        \n",
    "bigramLLH1 = []\n",
    "for sent in testcases:\n",
    "    prob = 1\n",
    "    for word in ngrams(sent, 2, pad_left = True, pad_right = True, left_pad_symbol='<s>',right_pad_symbol='</s>'):\n",
    "        prob *= bg.query(word)\n",
    "    if prob == 0:\n",
    "        bigramLLH1.append(-float('Inf'))\n",
    "    else:\n",
    "        bigramLLH1.append(math.log(prob)) \n",
    "print(bigramLLH1)"
   ]
  },
  {
   "cell_type": "code",
   "execution_count": 74,
   "metadata": {},
   "outputs": [
    {
     "name": "stdout",
     "output_type": "stream",
     "text": [
      "[-inf, -inf, -inf, -inf, -15.995702002744252]\n"
     ]
    }
   ],
   "source": [
    "#Trigram\n",
    "trigramLLH = []\n",
    "for sent in testcases:\n",
    "    prob = 1\n",
    "    for word in ngrams(sent, 3, pad_left = True, pad_right = True, left_pad_symbol='<s>',right_pad_symbol='</s>'):\n",
    "        prob *= tg.query(word)\n",
    "    if prob == 0:\n",
    "        trigramLLH.append(-float('Inf'))\n",
    "    else:\n",
    "        trigramLLH.append(math.log(prob))\n",
    "        \n",
    "print(trigramLLH)"
   ]
  },
  {
   "cell_type": "code",
   "execution_count": 75,
   "metadata": {},
   "outputs": [
    {
     "name": "stdout",
     "output_type": "stream",
     "text": [
      "[0.0014062204912880043, 0.002422397773280329, 0.0028679098737995246, 0.0010792295131443134, 0.0020627268823580876]\n"
     ]
    }
   ],
   "source": [
    "#Task 1\n",
    "# Perplexity\n",
    "#Unigram\n",
    "unigramLLH = []\n",
    "for sent in testcases:\n",
    "    prob = 1\n",
    "    for word in ngrams(sent, 1):\n",
    "        prob *= ug.query(word)\n",
    "    if prob == 0:\n",
    "        unigramLLH.append(float('Inf'))\n",
    "    else:\n",
    "        unigramLLH.append(prob**(1/float(len(sent))))\n",
    "        \n",
    "print(unigramLLH)"
   ]
  },
  {
   "cell_type": "code",
   "execution_count": 76,
   "metadata": {},
   "outputs": [
    {
     "name": "stdout",
     "output_type": "stream",
     "text": [
      "[0.004641888454787715, 0.003754133422712128, 0.0020101410421309316, inf, 0.005048924658664008]\n"
     ]
    }
   ],
   "source": [
    "#Bigram\n",
    "bigramLLH = []\n",
    "\n",
    "for sent in testcases:\n",
    "    prob = 1\n",
    "    for word in ngrams(sent, 2, pad_left = True, pad_right = True, left_pad_symbol='<s>',right_pad_symbol='</s>'):\n",
    "        prob *= bg.query(word)\n",
    "    if prob == 0:\n",
    "        bigramLLH.append(float('Inf'))\n",
    "    else:\n",
    "        bigramLLH.append(prob**(1/float(len(sent))))\n",
    "        \n",
    "print(bigramLLH)"
   ]
  },
  {
   "cell_type": "code",
   "execution_count": 77,
   "metadata": {},
   "outputs": [
    {
     "name": "stdout",
     "output_type": "stream",
     "text": [
      "[inf, inf, inf, inf, 0.01833532960709163]\n"
     ]
    }
   ],
   "source": [
    "#Trigram\n",
    "trigramLLH = []\n",
    "\n",
    "for sent in testcases:\n",
    "    prob = 1\n",
    "    for word in ngrams(sent, 3, pad_left = True, pad_right = True, left_pad_symbol='<s>',right_pad_symbol='</s>'):\n",
    "        prob *= tg.query(word)\n",
    "    if prob == 0:\n",
    "        trigramLLH.append(float('Inf'))\n",
    "    else:\n",
    "        trigramLLH.append(prob**(1/float(len(sent))))\n",
    "        \n",
    "print(trigramLLH)"
   ]
  },
  {
   "cell_type": "code",
   "execution_count": null,
   "metadata": {},
   "outputs": [],
   "source": []
  }
 ],
 "metadata": {
  "kernelspec": {
   "display_name": "Python 3",
   "language": "python",
   "name": "python3"
  },
  "language_info": {
   "codemirror_mode": {
    "name": "ipython",
    "version": 3
   },
   "file_extension": ".py",
   "mimetype": "text/x-python",
   "name": "python",
   "nbconvert_exporter": "python",
   "pygments_lexer": "ipython3",
   "version": "3.6.5"
  }
 },
 "nbformat": 4,
 "nbformat_minor": 2
}
