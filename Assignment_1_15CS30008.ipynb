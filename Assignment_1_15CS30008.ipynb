{
 "cells": [
  {
   "cell_type": "code",
   "execution_count": 4,
   "metadata": {},
   "outputs": [],
   "source": [
    "import nltk \n",
    "from nltk.corpus import brown\n",
    "from nltk import bigrams, ngrams, trigrams \n",
    "from string import punctuation\n",
    "import numpy as np\n",
    "import math\n"
   ]
  },
  {
   "cell_type": "code",
   "execution_count": 5,
   "metadata": {},
   "outputs": [
    {
     "name": "stdout",
     "output_type": "stream",
     "text": [
      "Dataset loaded with 57340 no of sentences.\n"
     ]
    }
   ],
   "source": [
    "dataset = brown.sents()\n",
    "print(\"Dataset loaded with %d no of sentences.\"%len(dataset))"
   ]
  },
  {
   "cell_type": "code",
   "execution_count": 6,
   "metadata": {},
   "outputs": [
    {
     "name": "stdout",
     "output_type": "stream",
     "text": [
      "Data preprocessed with special characters removed.\n"
     ]
    }
   ],
   "source": [
    "dataProcessed = [ [word.lower() for word in sentence if word not in punctuation] for sentence in dataset ]\n",
    "print(\"Data preprocessed with special characters removed.\")"
   ]
  },
  {
   "cell_type": "code",
   "execution_count": 7,
   "metadata": {},
   "outputs": [
    {
     "name": "stdout",
     "output_type": "stream",
     "text": [
      "Train data :  40000\n"
     ]
    }
   ],
   "source": [
    "train = dataProcessed[0:40000]\n",
    "test = dataProcessed[40000:]\n",
    "print(\"Train data : \",40000)\n"
   ]
  },
  {
   "cell_type": "code",
   "execution_count": 142,
   "metadata": {},
   "outputs": [],
   "source": [
    "class LanguageModel():\n",
    "    \n",
    "    \n",
    "    def __init__(self,sentences,n_gram,smoothing='none',laplace_constant=0.5):\n",
    "        self.smoothing = smoothing\n",
    "        self.modelDictionary={}\n",
    "        self.laplace_constant=laplace_constant\n",
    "        if n_gram == 1:\n",
    "            self.unigramModel(sentences)\n",
    "        elif n_gram == 2:\n",
    "            self.bigramModel(sentences)\n",
    "        elif n_gram == 3:\n",
    "            self.trigramModel(sentences)\n",
    "        \n",
    "    def bigramModel(self,sentences):\n",
    "        model = {}\n",
    "        maxim = 1\n",
    "        for sent in sentences:\n",
    "            for w1,w2 in ngrams(sent, 2, pad_left = True, pad_right = True, left_pad_symbol='<s>',right_pad_symbol='</s>'):\n",
    "                if w1 in model:\n",
    "                    if w2 in model[w1]:\n",
    "                        model[w1][w2] += 1\n",
    "                        self.modelDictionary[(w1,w2)] += 1\n",
    "                        value = self.modelDictionary[(w1,w2)]\n",
    "                        if value > maxim:\n",
    "                            maxim = value\n",
    "                    else:\n",
    "                        model[w1][w2] = 1\n",
    "                        self.modelDictionary[(w1,w2)] = 1\n",
    "                else:\n",
    "                    model[w1] = {}\n",
    "                    model[w1][w2] = 1\n",
    "                    self.modelDictionary[(w1,w2)] = 1\n",
    "\n",
    "        un = len(self.modelDictionary)\n",
    "        goodSmoothStore = np.zeros(maxim + 2)\n",
    "        gooddeno = 0\n",
    "        \n",
    "        if self.smoothing == 'goodturing':\n",
    "            for value in self.modelDictionary.values():\n",
    "                goodSmoothStore[value] += 1\n",
    "                \n",
    "            for index in range(len(goodSmoothStore)):\n",
    "                gooddeno += (index)*goodSmoothStore[index]\n",
    "            \n",
    "            unique = {}\n",
    "            for sent in sentences:\n",
    "                for word in ngrams(sent,1):\n",
    "                    unique[word] = 1\n",
    "                    \n",
    "            goodSmoothStore[0] = (len(unique)+2)**2 - un # +2 because of <s> and </s>\n",
    "\n",
    "        for w1 in model:\n",
    "            subcount = float(sum(model[w1].values()))\n",
    "            \n",
    "            for w2 in model[w1]:\n",
    "                if self.smoothing == 'none':\n",
    "                    model[w1][w2] /= subcount\n",
    "                    self.modelDictionary[(w1,w2)] /= subcount\n",
    "                elif self.smoothing == 'laplace':\n",
    "                    model[w1][w2] += self.laplace_constant\n",
    "                    model[w1][w2] /= (self.laplace_constant*un + subcount)\n",
    "                    self.modelDictionary[(w1,w2)] += self.laplace_constant\n",
    "                    self.modelDictionary[(w1,w2)] /= (self.laplace_constant*un + subcount)         \n",
    "                elif self.smoothing == 'goodturing':\n",
    "                    tempValue = model[w1][w2]\n",
    "                    rstar = float(tempValue+1)*goodSmoothStore[tempValue+1]/goodSmoothStore[tempValue]\n",
    "                    model[w1][w2] = rstar/float(gooddeno)\n",
    "                    self.modelDictionary[(w1,w2)] = rstar/float(gooddeno)\n",
    "           \n",
    "            self.modelDictionary[(w1,'UKN')] = 0\n",
    "            model[w1]['UKN'] = 0\n",
    "            \n",
    "            if self.smoothing == 'laplace':\n",
    "                model[w1]['UKN'] = self.laplace_constant / (self.laplace_constant*un + subcount)\n",
    "                self.modelDictionary[(w1,'UKN')] = self.laplace_constant / (self.laplace_constant*un + subcount)\n",
    "            elif self.smoothing == 'goodturing':\n",
    "                rstar = 1.0*goodSmoothStore[1]/float(goodSmoothStore[0])\n",
    "                model[w1]['UKN'] = rstar/float(gooddeno)\n",
    "                self.modelDictionary[(w1,'UKN')] = rstar/float(gooddeno)\n",
    "            \n",
    "        model['UKN'] = {}\n",
    "        model['UKN']['UKN'] = 0\n",
    "        self.modelDictionary[('UKN','UKN')] = 0\n",
    "\n",
    "        if self.smoothing == 'laplace':            \n",
    "            model['UKN']['UKN'] = 1.0 / un\n",
    "            self.modelDictionary[('UKN','UKN')] = 1.0 / un\n",
    "        elif self.smoothing == 'goodturing':\n",
    "            rstar = 1.0*goodSmoothStore[1]/float(goodSmoothStore[0])\n",
    "            model['UKN']['UKN'] = rstar/float(gooddeno)\n",
    "            self.modelDictionary[('UKN','UKN')] = rstar/float(gooddeno)\n",
    "            \n",
    "            \n",
    "    \n",
    "    def unigramModel(self,sentences):\n",
    "        count = 0\n",
    "        for sent in sentences:\n",
    "            for w in ngrams(sent,1):\n",
    "                count += 1\n",
    "                if w in self.modelDictionary:\n",
    "                    self.modelDictionary[w] += 1\n",
    "                else:\n",
    "                    self.modelDictionary[w] = 1\n",
    "\n",
    "        for w in self.modelDictionary:\n",
    "            if self.smoothing == 'laplace':\n",
    "                self.modelDictionary[w] += self.laplace_constant\n",
    "                self.modelDictionary[w] /= (self.laplace_constant*count + count)\n",
    "            else:\n",
    "                self.modelDictionary[w] /= (count)\n",
    "        if self.smoothing == 'laplace':\n",
    "            self.modelDictionary['UKN'] = self.laplace_constant / (self.laplace_constant*count + count)\n",
    "        else:\n",
    "            self.modelDictionary['UKN'] = 0\n",
    "\n",
    "    def trigramModel(self,sentences):\n",
    "        model = {}\n",
    "        maxim = 1\n",
    "        for sent in sentences:\n",
    "            for w1,w2,w3 in ngrams(sent, 3, pad_left = True, pad_right = True, left_pad_symbol='<s>',right_pad_symbol='</s>'):\n",
    "                if w1 in model:\n",
    "                    \n",
    "                    if w2 in model[w1]:\n",
    "                       \n",
    "                        if w3 in model[w1][w2]:\n",
    "                            model[w1][w2][w3] += 1\n",
    "                            self.modelDictionary[(w1,w2,w3)] += 1\n",
    "                            value = self.modelDictionary[(w1,w2,w3)]\n",
    "                            if value > maxim:\n",
    "                                maxim = value\n",
    "                            \n",
    "                        else:\n",
    "                            model[w1][w2][w3] = 1\n",
    "                            self.modelDictionary[(w1,w2,w3)] = 1\n",
    "                    else:\n",
    "                        model[w1][w2] = {}\n",
    "                        model[w1][w2][w3] = 1\n",
    "                        self.modelDictionary[(w1,w2,w3)] = 1\n",
    "                else:\n",
    "                    model[w1] = {}\n",
    "                    model[w1][w2] = {}\n",
    "                    model[w1][w2][w3] = 1\n",
    "                    self.modelDictionary[(w1,w2,w3)] = 1\n",
    "        un = len(self.modelDictionary)\n",
    "        goodSmoothStore = np.zeros(maxim + 2)\n",
    "        gooddeno = 0\n",
    "        \n",
    "        if self.smoothing == 'goodturing':\n",
    "            for value in self.modelDictionary.values():\n",
    "                goodSmoothStore[value] += 1\n",
    "                \n",
    "            for index in range(len(goodSmoothStore)):\n",
    "                gooddeno += (index)*goodSmoothStore[index]\n",
    "            \n",
    "            unique = {}\n",
    "            for sent in sentences:\n",
    "                for word in ngrams(sent,1):\n",
    "                    unique[word] = 1\n",
    "                    \n",
    "            goodSmoothStore[0] = (len(unique)+2)**3 - un # +2 because of <s> and </s>\n",
    "        \n",
    "        for w1 in model:\n",
    "            for w2 in model[w1]:\n",
    "                subcount = float(sum(model[w1][w2].values()))\n",
    "                \n",
    "                for w3 in model[w1][w2]:\n",
    "             \n",
    "                    if self.smoothing == 'none':\n",
    "                        model[w1][w2][w3] /= subcount\n",
    "                        self.modelDictionary[(w1,w2,w3)] /= subcount\n",
    "                    elif self.smoothing == 'laplace':\n",
    "                        model[w1][w2][w3] += self.laplace_constant\n",
    "                        model[w1][w2][w3] /= (self.laplace_constant*un + subcount)\n",
    "                        self.modelDictionary[(w1,w2,w3)] += self.laplace_constant\n",
    "                        self.modelDictionary[(w1,w2,w3)] /= (self.laplace_constant*un + subcount)\n",
    "                    elif self.smoothing == 'goodturing':\n",
    "                        tempValue = model[w1][w2][w3]\n",
    "                        rstar = float(tempValue+1)*goodSmoothStore[tempValue+1]/goodSmoothStore[tempValue]\n",
    "                        model[w1][w2][w3] = rstar/gooddeno\n",
    "                    \n",
    "                model[w1][w2]['UKN'] = 0\n",
    "                self.modelDictionary[(w1,w2,'UKN')] = 0                        \n",
    "                \n",
    "                if self.smoothing == 'laplace':\n",
    "                    model[w1][w2]['UKN'] = self.laplace_constant / (self.laplace_constant*un + subcount)\n",
    "                    self.modelDictionary[(w1,w2,'UKN')] = self.laplace_constant / (self.laplace_constant*un + subcount)                                       \n",
    "                elif self.smoothing == 'goodturing':\n",
    "                    rstar = 1.0*goodSmoothStore[1]/goodSmoothStore[0]\n",
    "                    model[w1][w2]['UKN'] = rstar/gooddeno\n",
    "                    self.modelDictionary[(w1,w2,'UKN')] = rstar/gooddeno\n",
    "                \n",
    "            model[w1]['UKN'] = {}\n",
    "            model[w1]['UKN']['UKN'] = 0\n",
    "            self.modelDictionary[(w1,'UKN','UKN')] = 0\n",
    "            \n",
    "            if self.smoothing == 'laplace':\n",
    "                model[w1]['UKN']['UKN'] = 1.0/un\n",
    "                self.modelDictionary[(w1,'UKN','UKN')] = 1.0/un\n",
    "            elif self.smoothing == 'goodturing':\n",
    "                rstar = 1.0*goodSmoothStore[1]/goodSmoothStore[0]\n",
    "                model[w1]['UKN']['UKN'] = rstar/gooddeno\n",
    "                self.modelDictionary[(w1,'UKN','UKN')] = rstar/gooddeno\n",
    "        \n",
    "        model['UKN'] = {}\n",
    "        model['UKN']['UKN'] = {}\n",
    "        model['UKN']['UKN']['UKN'] = 0\n",
    "        self.modelDictionary[('UKN','UKN','UKN')] = 0\n",
    "    \n",
    "        if self.smoothing == 'laplace':\n",
    "            model['UKN']['UKN']['UKN'] = 1.0/un\n",
    "            self.modelDictionary[('UKN','UKN','UKN')] = 1.0/un\n",
    "        elif self.smoothing == 'goodturing':    \n",
    "            rstar = 1.0*goodSmoothStore[1]/goodSmoothStore[0]\n",
    "            model['UKN']['UKN']['UKN'] = rstar/gooddeno\n",
    "            self.modelDictionary[('UKN','UKN','UKN')] = rstar/gooddeno\n",
    "\n",
    "            \n",
    "            \n",
    "    def query(self,key):\n",
    "        keyList = list(key)\n",
    "        if key not in self.modelDictionary:\n",
    "            keyLen = len(keyList)\n",
    "            keyList[keyLen-1] = 'UKN'\n",
    "            if tuple(keyList) in self.modelDictionary:\n",
    "                return self.modelDictionary[tuple(keyList)]\n",
    "            else:\n",
    "                keyList[keyLen-2] = 'UKN'\n",
    "                return self.modelDictionary[tuple(keyList)]\n",
    "        else:\n",
    "            return self.modelDictionary[key]\n",
    "    \n",
    "    def keys(self):\n",
    "        return self.modelDictionary.keys()\n",
    "    \n",
    "    def items(self):\n",
    "        return self.modelDictionary.items()\n",
    "    \n",
    "    def values(self):\n",
    "        return self.modelDictionary.values()"
   ]
  },
  {
   "cell_type": "code",
   "execution_count": 143,
   "metadata": {},
   "outputs": [],
   "source": [
    "#Task 1\n",
    "ug = LanguageModel(train,1)\n",
    "bg = LanguageModel(train,2,smoothing='goodturing')\n",
    "tg = LanguageModel(train,3,smoothing='goodturing')"
   ]
  },
  {
   "cell_type": "code",
   "execution_count": 144,
   "metadata": {},
   "outputs": [],
   "source": [
    "# Task 1\n",
    "# Zif's law verification\n",
    "#for w in unigramLM:\n",
    "# TODO\n",
    "   "
   ]
  },
  {
   "cell_type": "code",
   "execution_count": 145,
   "metadata": {},
   "outputs": [
    {
     "name": "stdout",
     "output_type": "stream",
     "text": [
      "{('the',): 0.07093622801935767, ('of',): 0.039303455703185775, ('and',): 0.02776098733658642, ('to',): 0.02555428353127902, ('in',): 0.02223794449813197, ('a',): 0.022168827921086463, ('is',): 0.01190564456234755, ('that',): 0.010354919906453855, ('for',): 0.00978565064460633, ('it',): 0.007604080140042752}\n",
      "{('as', 'well'): 0.0009978977142877654, ('or', 'the'): 0.0009751638335066293, ('<s>', 'mr.'): 0.0009620021130543926, ('in', 'their'): 0.0007466285056541554, ('the', 'first'): 0.0006927851038040962, ('of', 'his'): 0.0006736407831462974, ('one', 'of'): 0.0006592825426529482, ('to', 'a'): 0.0006509069023651611, ('over', 'the'): 0.000619797381296238, ('some', 'of'): 0.0006078321808851137}\n",
      "{('<s>', '<s>', 'the'): 5678, (\"''\", '</s>', '</s>'): 2181, ('<s>', '<s>', 'in'): 1560, ('<s>', '<s>', 'it'): 1477, ('<s>', '<s>', 'he'): 1354, ('<s>', '<s>', '``'): 1129, ('<s>', '<s>', 'this'): 1024, ('<s>', '<s>', 'but'): 1012, ('<s>', '<s>', 'a'): 917, ('<s>', '<s>', 'and'): 811}\n"
     ]
    }
   ],
   "source": [
    "# Task 1\n",
    "# Top 10 unigrams, bigrams, trigrams\n",
    "top10Uni = dict(sorted(ug.items(), key=lambda x: x[1], reverse=True)[:10])\n",
    "top10Bi = dict(sorted(bg.items(), key=lambda x: x[1], reverse=True)[:10])\n",
    "top10Tri = dict(sorted(tg.items(), key=lambda x: x[1], reverse=True)[:10])\n",
    "print(top10Uni)\n",
    "print(top10Bi)\n",
    "print(top10Tri)"
   ]
  },
  {
   "cell_type": "code",
   "execution_count": 146,
   "metadata": {},
   "outputs": [
    {
     "name": "stdout",
     "output_type": "stream",
     "text": [
      "[['he', 'lived', 'a', 'good', 'life'], ['the', 'man', 'was', 'happy'], ['the', 'person', 'was', 'good'], ['the', 'girl', 'was', 'sad'], ['he', 'won', 'the', 'war']]\n"
     ]
    }
   ],
   "source": [
    "# Task 1\n",
    "# Test cases\n",
    "fd = open('test_cases.txt','r')\n",
    "testcases = [sent.split() for sent in fd]\n",
    "print(testcases)    "
   ]
  },
  {
   "cell_type": "code",
   "execution_count": 147,
   "metadata": {},
   "outputs": [
    {
     "name": "stdout",
     "output_type": "stream",
     "text": [
      "[-32.83424838102342, -24.091989655768156, -23.4166871259785, -27.32603162480786, -24.734905768951318]\n"
     ]
    }
   ],
   "source": [
    "#Task 1\n",
    "#Log likelihood\n",
    "\n",
    "#Unigram      \n",
    "unigramLLH1 = []\n",
    "for sent in testcases:\n",
    "    prob = 1\n",
    "    for word in ngrams(sent,1):\n",
    "        prob *= ug.query(word)\n",
    "    if prob == 0:\n",
    "        unigramLLH1.append(-float('Inf'))\n",
    "    else:\n",
    "        unigramLLH1.append(math.log(prob))\n",
    "        \n",
    "print(unigramLLH1)"
   ]
  },
  {
   "cell_type": "code",
   "execution_count": 148,
   "metadata": {},
   "outputs": [
    {
     "name": "stdout",
     "output_type": "stream",
     "text": [
      "[-inf, -inf, -inf, -inf, -inf]\n"
     ]
    }
   ],
   "source": [
    "#Bigram\n",
    "        \n",
    "bigramLLH1 = []\n",
    "for sent in testcases:\n",
    "    prob = 1\n",
    "    for word in ngrams(sent, 2, pad_left = True, pad_right = True, left_pad_symbol='<s>',right_pad_symbol='</s>'):\n",
    "        prob *= bg.query(word)\n",
    "    if prob == 0:\n",
    "        bigramLLH1.append(-float('Inf'))\n",
    "    else:\n",
    "        bigramLLH1.append(math.log(prob)) \n",
    "print(bigramLLH1)"
   ]
  },
  {
   "cell_type": "code",
   "execution_count": 149,
   "metadata": {},
   "outputs": [
    {
     "name": "stdout",
     "output_type": "stream",
     "text": [
      "[-84.30356866553593, -50.35493133657574, -51.45069055626144, -56.2128644910592, 13.656538272857798]\n"
     ]
    }
   ],
   "source": [
    "#Trigram\n",
    "trigramLLH = []\n",
    "for sent in testcases:\n",
    "    prob = 1\n",
    "    for word in ngrams(sent, 3, pad_left = True, pad_right = True, left_pad_symbol='<s>',right_pad_symbol='</s>'):\n",
    "        prob *= tg.query(word)\n",
    "    if prob == 0:\n",
    "        trigramLLH.append(-float('Inf'))\n",
    "    else:\n",
    "        trigramLLH.append(math.log(prob))\n",
    "        \n",
    "print(trigramLLH)"
   ]
  },
  {
   "cell_type": "code",
   "execution_count": 75,
   "metadata": {},
   "outputs": [
    {
     "name": "stdout",
     "output_type": "stream",
     "text": [
      "[0.0014062204912880043, 0.002422397773280329, 0.0028679098737995246, 0.0010792295131443134, 0.0020627268823580876]\n"
     ]
    }
   ],
   "source": [
    "#Task 1\n",
    "# Perplexity\n",
    "#Unigram\n",
    "unigramLLH = []\n",
    "for sent in testcases:\n",
    "    prob = 1\n",
    "    for word in ngrams(sent, 1):\n",
    "        prob *= ug.query(word)\n",
    "    if prob == 0:\n",
    "        unigramLLH.append(float('Inf'))\n",
    "    else:\n",
    "        unigramLLH.append(prob**(1/float(len(sent))))\n",
    "        \n",
    "print(unigramLLH)"
   ]
  },
  {
   "cell_type": "code",
   "execution_count": 83,
   "metadata": {},
   "outputs": [
    {
     "name": "stdout",
     "output_type": "stream",
     "text": [
      "[0.004641888454787715, 0.003754133422712128, 0.0020101410421309316, inf, 0.005048924658664008]\n"
     ]
    }
   ],
   "source": [
    "#Bigram\n",
    "bigramLLH = []\n",
    "\n",
    "for sent in testcases:\n",
    "    prob = 1\n",
    "    for word in ngrams(sent, 2, pad_left = True, pad_right = True, left_pad_symbol='<s>',right_pad_symbol='</s>'):\n",
    "        prob *= bg.query(word)\n",
    "    if prob == 0:\n",
    "        bigramLLH.append(float('Inf'))\n",
    "    else:\n",
    "        bigramLLH.append(prob**(1/float(len(sent))))\n",
    "        \n",
    "print(bigramLLH)"
   ]
  },
  {
   "cell_type": "code",
   "execution_count": 150,
   "metadata": {},
   "outputs": [
    {
     "name": "stdout",
     "output_type": "stream",
     "text": [
      "[4.7586642582364724e-08, 3.4102231322099295e-06, 2.5930581158550615e-06, 7.884347998791705e-07, 30.390637020150237]\n"
     ]
    }
   ],
   "source": [
    "#Trigram\n",
    "trigramLLH = []\n",
    "\n",
    "for sent in testcases:\n",
    "    prob = 1\n",
    "    for word in ngrams(sent, 3, pad_left = True, pad_right = True, left_pad_symbol='<s>',right_pad_symbol='</s>'):\n",
    "        prob *= tg.query(word)\n",
    "    if prob == 0:\n",
    "        trigramLLH.append(float('Inf'))\n",
    "    else:\n",
    "        trigramLLH.append(prob**(1/float(len(sent))))\n",
    "        \n",
    "print(trigramLLH)"
   ]
  },
  {
   "cell_type": "code",
   "execution_count": 151,
   "metadata": {},
   "outputs": [
    {
     "ename": "KeyError",
     "evalue": "('UKN', 'UKN')",
     "output_type": "error",
     "traceback": [
      "\u001b[0;31m---------------------------------------------------------------------------\u001b[0m",
      "\u001b[0;31mKeyError\u001b[0m                                  Traceback (most recent call last)",
      "\u001b[0;32m<ipython-input-151-e3e91db39bab>\u001b[0m in \u001b[0;36m<module>\u001b[0;34m()\u001b[0m\n\u001b[1;32m      6\u001b[0m     \u001b[0mprob\u001b[0m \u001b[0;34m=\u001b[0m \u001b[0;36m1\u001b[0m\u001b[0;34m\u001b[0m\u001b[0m\n\u001b[1;32m      7\u001b[0m     \u001b[0;32mfor\u001b[0m \u001b[0mword\u001b[0m \u001b[0;32min\u001b[0m \u001b[0mngrams\u001b[0m\u001b[0;34m(\u001b[0m\u001b[0msent\u001b[0m\u001b[0;34m,\u001b[0m \u001b[0;36m2\u001b[0m\u001b[0;34m,\u001b[0m \u001b[0mpad_left\u001b[0m \u001b[0;34m=\u001b[0m \u001b[0;32mTrue\u001b[0m\u001b[0;34m,\u001b[0m \u001b[0mpad_right\u001b[0m \u001b[0;34m=\u001b[0m \u001b[0;32mTrue\u001b[0m\u001b[0;34m,\u001b[0m \u001b[0mleft_pad_symbol\u001b[0m\u001b[0;34m=\u001b[0m\u001b[0;34m'<s>'\u001b[0m\u001b[0;34m,\u001b[0m\u001b[0mright_pad_symbol\u001b[0m\u001b[0;34m=\u001b[0m\u001b[0;34m'</s>'\u001b[0m\u001b[0;34m)\u001b[0m\u001b[0;34m:\u001b[0m\u001b[0;34m\u001b[0m\u001b[0m\n\u001b[0;32m----> 8\u001b[0;31m         \u001b[0mprob\u001b[0m \u001b[0;34m*=\u001b[0m \u001b[0mlambda_\u001b[0m\u001b[0;34m*\u001b[0m\u001b[0mbg\u001b[0m\u001b[0;34m.\u001b[0m\u001b[0mquery\u001b[0m\u001b[0;34m(\u001b[0m\u001b[0mword\u001b[0m\u001b[0;34m)\u001b[0m \u001b[0;34m+\u001b[0m \u001b[0;34m(\u001b[0m\u001b[0;36m1\u001b[0m\u001b[0;34m-\u001b[0m\u001b[0mlambda_\u001b[0m\u001b[0;34m)\u001b[0m\u001b[0;34m*\u001b[0m\u001b[0mug\u001b[0m\u001b[0;34m.\u001b[0m\u001b[0mquery\u001b[0m\u001b[0;34m(\u001b[0m\u001b[0mword\u001b[0m\u001b[0;34m[\u001b[0m\u001b[0;36m1\u001b[0m\u001b[0;34m]\u001b[0m\u001b[0;34m)\u001b[0m\u001b[0;34m\u001b[0m\u001b[0m\n\u001b[0m\u001b[1;32m      9\u001b[0m     \u001b[0;32mif\u001b[0m \u001b[0mprob\u001b[0m \u001b[0;34m==\u001b[0m \u001b[0;36m0\u001b[0m\u001b[0;34m:\u001b[0m\u001b[0;34m\u001b[0m\u001b[0m\n\u001b[1;32m     10\u001b[0m         \u001b[0mbigramLLHInter\u001b[0m\u001b[0;34m.\u001b[0m\u001b[0mappend\u001b[0m\u001b[0;34m(\u001b[0m\u001b[0mfloat\u001b[0m\u001b[0;34m(\u001b[0m\u001b[0;34m'Inf'\u001b[0m\u001b[0;34m)\u001b[0m\u001b[0;34m)\u001b[0m\u001b[0;34m\u001b[0m\u001b[0m\n",
      "\u001b[0;32m<ipython-input-142-d42a9b630bb9>\u001b[0m in \u001b[0;36mquery\u001b[0;34m(self, key)\u001b[0m\n\u001b[1;32m    227\u001b[0m             \u001b[0;32melse\u001b[0m\u001b[0;34m:\u001b[0m\u001b[0;34m\u001b[0m\u001b[0m\n\u001b[1;32m    228\u001b[0m                 \u001b[0mkeyList\u001b[0m\u001b[0;34m[\u001b[0m\u001b[0mkeyLen\u001b[0m\u001b[0;34m-\u001b[0m\u001b[0;36m2\u001b[0m\u001b[0;34m]\u001b[0m \u001b[0;34m=\u001b[0m \u001b[0;34m'UKN'\u001b[0m\u001b[0;34m\u001b[0m\u001b[0m\n\u001b[0;32m--> 229\u001b[0;31m                 \u001b[0;32mreturn\u001b[0m \u001b[0mself\u001b[0m\u001b[0;34m.\u001b[0m\u001b[0mmodelDictionary\u001b[0m\u001b[0;34m[\u001b[0m\u001b[0mtuple\u001b[0m\u001b[0;34m(\u001b[0m\u001b[0mkeyList\u001b[0m\u001b[0;34m)\u001b[0m\u001b[0;34m]\u001b[0m\u001b[0;34m\u001b[0m\u001b[0m\n\u001b[0m\u001b[1;32m    230\u001b[0m         \u001b[0;32melse\u001b[0m\u001b[0;34m:\u001b[0m\u001b[0;34m\u001b[0m\u001b[0m\n\u001b[1;32m    231\u001b[0m             \u001b[0;32mreturn\u001b[0m \u001b[0mself\u001b[0m\u001b[0;34m.\u001b[0m\u001b[0mmodelDictionary\u001b[0m\u001b[0;34m[\u001b[0m\u001b[0mkey\u001b[0m\u001b[0;34m]\u001b[0m\u001b[0;34m\u001b[0m\u001b[0m\n",
      "\u001b[0;31mKeyError\u001b[0m: ('UKN', 'UKN')"
     ]
    }
   ],
   "source": [
    "# Interpolation\n",
    "# Bigram model\n",
    "bigramLLHInter = []\n",
    "lambda_ = 0.2\n",
    "for sent in testcases:\n",
    "    prob = 1\n",
    "    for word in ngrams(sent, 2, pad_left = True, pad_right = True, left_pad_symbol='<s>',right_pad_symbol='</s>'):\n",
    "        prob *= lambda_*bg.query(word) + (1-lambda_)*ug.query(word[1])\n",
    "    if prob == 0:\n",
    "        bigramLLHInter.append(float('Inf'))\n",
    "    else:\n",
    "        bigramLLHInter.append(prob**(1/float(len(sent))))\n",
    "        \n",
    "print(bigramLLHInter)"
   ]
  },
  {
   "cell_type": "code",
   "execution_count": 152,
   "metadata": {},
   "outputs": [
    {
     "ename": "KeyError",
     "evalue": "('<s>', 'UKN', 'UKN')",
     "output_type": "error",
     "traceback": [
      "\u001b[0;31m---------------------------------------------------------------------------\u001b[0m",
      "\u001b[0;31mKeyError\u001b[0m                                  Traceback (most recent call last)",
      "\u001b[0;32m<ipython-input-152-a42f2865f74f>\u001b[0m in \u001b[0;36m<module>\u001b[0;34m()\u001b[0m\n\u001b[1;32m      5\u001b[0m     \u001b[0mprob\u001b[0m \u001b[0;34m=\u001b[0m \u001b[0;36m1\u001b[0m\u001b[0;34m\u001b[0m\u001b[0m\n\u001b[1;32m      6\u001b[0m     \u001b[0;32mfor\u001b[0m \u001b[0mword\u001b[0m \u001b[0;32min\u001b[0m \u001b[0mngrams\u001b[0m\u001b[0;34m(\u001b[0m\u001b[0msent\u001b[0m\u001b[0;34m,\u001b[0m \u001b[0;36m3\u001b[0m\u001b[0;34m,\u001b[0m \u001b[0mpad_left\u001b[0m \u001b[0;34m=\u001b[0m \u001b[0;32mTrue\u001b[0m\u001b[0;34m,\u001b[0m \u001b[0mpad_right\u001b[0m \u001b[0;34m=\u001b[0m \u001b[0;32mTrue\u001b[0m\u001b[0;34m,\u001b[0m \u001b[0mleft_pad_symbol\u001b[0m\u001b[0;34m=\u001b[0m\u001b[0;34m'<s>'\u001b[0m\u001b[0;34m,\u001b[0m\u001b[0mright_pad_symbol\u001b[0m\u001b[0;34m=\u001b[0m\u001b[0;34m'</s>'\u001b[0m\u001b[0;34m)\u001b[0m\u001b[0;34m:\u001b[0m\u001b[0;34m\u001b[0m\u001b[0m\n\u001b[0;32m----> 7\u001b[0;31m         \u001b[0mprob\u001b[0m \u001b[0;34m*=\u001b[0m \u001b[0mlambda2\u001b[0m \u001b[0;34m*\u001b[0m\u001b[0mtg\u001b[0m\u001b[0;34m.\u001b[0m\u001b[0mquery\u001b[0m\u001b[0;34m(\u001b[0m\u001b[0mword\u001b[0m\u001b[0;34m)\u001b[0m \u001b[0;34m+\u001b[0m \u001b[0mlambda1\u001b[0m\u001b[0;34m*\u001b[0m\u001b[0mbg\u001b[0m\u001b[0;34m.\u001b[0m\u001b[0mquery\u001b[0m\u001b[0;34m(\u001b[0m\u001b[0mword\u001b[0m\u001b[0;34m)\u001b[0m \u001b[0;34m+\u001b[0m \u001b[0;34m(\u001b[0m\u001b[0;36m1\u001b[0m\u001b[0;34m-\u001b[0m\u001b[0mlambda1\u001b[0m \u001b[0;34m-\u001b[0m \u001b[0mlambda2\u001b[0m\u001b[0;34m)\u001b[0m\u001b[0;34m*\u001b[0m\u001b[0mug\u001b[0m\u001b[0;34m.\u001b[0m\u001b[0mquery\u001b[0m\u001b[0;34m(\u001b[0m\u001b[0mword\u001b[0m\u001b[0;34m[\u001b[0m\u001b[0;36m1\u001b[0m\u001b[0;34m]\u001b[0m\u001b[0;34m)\u001b[0m\u001b[0;34m\u001b[0m\u001b[0m\n\u001b[0m\u001b[1;32m      8\u001b[0m     \u001b[0;32mif\u001b[0m \u001b[0mprob\u001b[0m \u001b[0;34m==\u001b[0m \u001b[0;36m0\u001b[0m\u001b[0;34m:\u001b[0m\u001b[0;34m\u001b[0m\u001b[0m\n\u001b[1;32m      9\u001b[0m         \u001b[0mtrigramLLHInter\u001b[0m\u001b[0;34m.\u001b[0m\u001b[0mappend\u001b[0m\u001b[0;34m(\u001b[0m\u001b[0mfloat\u001b[0m\u001b[0;34m(\u001b[0m\u001b[0;34m'Inf'\u001b[0m\u001b[0;34m)\u001b[0m\u001b[0;34m)\u001b[0m\u001b[0;34m\u001b[0m\u001b[0m\n",
      "\u001b[0;32m<ipython-input-142-d42a9b630bb9>\u001b[0m in \u001b[0;36mquery\u001b[0;34m(self, key)\u001b[0m\n\u001b[1;32m    227\u001b[0m             \u001b[0;32melse\u001b[0m\u001b[0;34m:\u001b[0m\u001b[0;34m\u001b[0m\u001b[0m\n\u001b[1;32m    228\u001b[0m                 \u001b[0mkeyList\u001b[0m\u001b[0;34m[\u001b[0m\u001b[0mkeyLen\u001b[0m\u001b[0;34m-\u001b[0m\u001b[0;36m2\u001b[0m\u001b[0;34m]\u001b[0m \u001b[0;34m=\u001b[0m \u001b[0;34m'UKN'\u001b[0m\u001b[0;34m\u001b[0m\u001b[0m\n\u001b[0;32m--> 229\u001b[0;31m                 \u001b[0;32mreturn\u001b[0m \u001b[0mself\u001b[0m\u001b[0;34m.\u001b[0m\u001b[0mmodelDictionary\u001b[0m\u001b[0;34m[\u001b[0m\u001b[0mtuple\u001b[0m\u001b[0;34m(\u001b[0m\u001b[0mkeyList\u001b[0m\u001b[0;34m)\u001b[0m\u001b[0;34m]\u001b[0m\u001b[0;34m\u001b[0m\u001b[0m\n\u001b[0m\u001b[1;32m    230\u001b[0m         \u001b[0;32melse\u001b[0m\u001b[0;34m:\u001b[0m\u001b[0;34m\u001b[0m\u001b[0m\n\u001b[1;32m    231\u001b[0m             \u001b[0;32mreturn\u001b[0m \u001b[0mself\u001b[0m\u001b[0;34m.\u001b[0m\u001b[0mmodelDictionary\u001b[0m\u001b[0;34m[\u001b[0m\u001b[0mkey\u001b[0m\u001b[0;34m]\u001b[0m\u001b[0;34m\u001b[0m\u001b[0m\n",
      "\u001b[0;31mKeyError\u001b[0m: ('<s>', 'UKN', 'UKN')"
     ]
    }
   ],
   "source": [
    "trigramLLHInter = []\n",
    "lambda1 = 0.2\n",
    "lambda2 = 0.2\n",
    "for sent in testcases:\n",
    "    prob = 1\n",
    "    for word in ngrams(sent, 3, pad_left = True, pad_right = True, left_pad_symbol='<s>',right_pad_symbol='</s>'):\n",
    "        prob *= lambda2 *tg.query(word) + lambda1*bg.query(word) + (1-lambda1 - lambda2)*ug.query(word[1])\n",
    "    if prob == 0:\n",
    "        trigramLLHInter.append(float('Inf'))\n",
    "    else:\n",
    "        trigramLLHInter.append(prob**(1/float(len(sent))))\n",
    "        \n",
    "print(trigramLLH)"
   ]
  },
  {
   "cell_type": "code",
   "execution_count": null,
   "metadata": {},
   "outputs": [],
   "source": []
  }
 ],
 "metadata": {
  "kernelspec": {
   "display_name": "Python 3",
   "language": "python",
   "name": "python3"
  },
  "language_info": {
   "codemirror_mode": {
    "name": "ipython",
    "version": 3
   },
   "file_extension": ".py",
   "mimetype": "text/x-python",
   "name": "python",
   "nbconvert_exporter": "python",
   "pygments_lexer": "ipython3",
   "version": "3.6.5"
  }
 },
 "nbformat": 4,
 "nbformat_minor": 2
}
