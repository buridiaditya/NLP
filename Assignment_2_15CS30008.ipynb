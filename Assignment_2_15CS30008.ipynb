{
 "cells": [
  {
   "cell_type": "code",
   "execution_count": 1,
   "metadata": {},
   "outputs": [
    {
     "name": "stdout",
     "output_type": "stream",
     "text": [
      "57240\n",
      "100\n"
     ]
    }
   ],
   "source": [
    "from nltk.corpus import treebank,brown\n",
    "\n",
    "corpus = brown.tagged_sents(tagset='universal')\n",
    "train_data = corpus[:-100] \n",
    "test_data = corpus[-100:]\n",
    "\n",
    "print(len(train_data))\n",
    "print(len(test_data))"
   ]
  },
  {
   "cell_type": "code",
   "execution_count": 8,
   "metadata": {},
   "outputs": [],
   "source": [
    "#HMM\n",
    "\n",
    "class HMM():\n",
    "    def __init__(self):\n",
    "        self.P = {}\n",
    "        self.O = {}\n",
    "        self.S = {}\n",
    "\n",
    "    def train(self,train_data):\n",
    "        \n",
    "        self.tag_dict={}\n",
    "        self.word_dict={}\n",
    "\n",
    "        for sent in train_data:\n",
    "            for elem in sent:\n",
    "                w = elem[0]\n",
    "                tag= elem[1]\n",
    "\n",
    "                if w not in self.word_dict:\n",
    "                    self.word_dict[w]=0\n",
    "\n",
    "                if tag not in self.tag_dict:\n",
    "                    self.tag_dict[tag]=0\n",
    "\n",
    "                self.word_dict[w]+=1\n",
    "                self.tag_dict[tag]+=1\n",
    "   \n",
    "        for sent in train_data:\n",
    "            for i in range(len(sent)-1):\n",
    "                word = sent[i]\n",
    "                if i == 0:\n",
    "                    if word[1] not in self.S:\n",
    "                        self.S[word[1]] = 1\n",
    "                    else:\n",
    "                        self.S[word[1]] += 1\n",
    "                word2 = sent[i+1]\n",
    "                if (word[1],word2[1]) not in self.P:\n",
    "                    self.P[(word[1],word2[1])] = 1\n",
    "                else:\n",
    "                    self.P[(word[1],word2[1])] += 1\n",
    "                if (word[1],word[0]) not in self.O:\n",
    "                    self.O[(word[1],word[0])] = 1\n",
    "                else:\n",
    "                    self.O[(word[1],word[0])] += 1\n",
    "                    \n",
    "        for (s,s_1) in self.P:\n",
    "            self.P[(s,s_1)] /= float(self.tag_dict[s])\n",
    "\n",
    "        for (s,v) in self.O:\n",
    "            self.O[(s,v)] /= float(self.tag_dict[s])\n",
    "\n",
    "        for s in self.S:\n",
    "            self.S[s] /= float(self.tag_dict[s])\n",
    "            \n",
    "            \n",
    "    def transition(self,s1,s2):\n",
    "        if (s1,s2) not in self.P:\n",
    "            return 0\n",
    "        else:\n",
    "            return self.P[(s1,s2)]\n",
    "    \n",
    "    def emission(self,s1,v1):\n",
    "        if (s1,v1) not in self.O:\n",
    "            return 0\n",
    "        else:\n",
    "            return self.O[(s1,v1)]\n",
    "        \n",
    "    def start(self,s):\n",
    "        if s not in self.S:\n",
    "            return 0;\n",
    "        else:\n",
    "            return S[s]\n",
    "        \n",
    "    def getTags(self):\n",
    "        return self.tag_dict\n",
    "    \n",
    "    def getWords(self):\n",
    "        return self.word_dict"
   ]
  },
  {
   "cell_type": "code",
   "execution_count": 9,
   "metadata": {},
   "outputs": [],
   "source": [
    "model = HMM()\n",
    "model.train(train_data)\n",
    "    "
   ]
  },
  {
   "cell_type": "code",
   "execution_count": 10,
   "metadata": {},
   "outputs": [],
   "source": [
    "#print(P)"
   ]
  },
  {
   "cell_type": "code",
   "execution_count": 11,
   "metadata": {},
   "outputs": [],
   "source": [
    "#print(O)"
   ]
  },
  {
   "cell_type": "code",
   "execution_count": 12,
   "metadata": {},
   "outputs": [
    {
     "name": "stdout",
     "output_type": "stream",
     "text": [
      "DET\n",
      "NOUN\n",
      "ADJ\n",
      "VERB\n",
      "ADP\n",
      ".\n",
      "ADV\n",
      "CONJ\n",
      "PRT\n",
      "PRON\n",
      "NUM\n",
      "X\n"
     ]
    }
   ],
   "source": [
    "#print(S)\n",
    "tag_set = model.getTags()\n",
    "for t in tag_set:\n",
    "    print(t)"
   ]
  },
  {
   "cell_type": "code",
   "execution_count": 7,
   "metadata": {},
   "outputs": [
    {
     "ename": "SyntaxError",
     "evalue": "invalid syntax (<ipython-input-7-e32197dd7855>, line 3)",
     "output_type": "error",
     "traceback": [
      "\u001b[0;36m  File \u001b[0;32m\"<ipython-input-7-e32197dd7855>\"\u001b[0;36m, line \u001b[0;32m3\u001b[0m\n\u001b[0;31m    for word\u001b[0m\n\u001b[0m            ^\u001b[0m\n\u001b[0;31mSyntaxError\u001b[0m\u001b[0;31m:\u001b[0m invalid syntax\n"
     ]
    }
   ],
   "source": [
    "for sent in test_data:\n",
    "    V = {}\n",
    "    tag_set = model.getTags()\n",
    "    for t in tag_set:\n",
    "        print(t)\n",
    "        V[t] = model.start(t)\n",
    "    bestSeq = []\n",
    "    for word "
   ]
  },
  {
   "cell_type": "code",
   "execution_count": null,
   "metadata": {},
   "outputs": [],
   "source": []
  }
 ],
 "metadata": {
  "kernelspec": {
   "display_name": "Python 3",
   "language": "python",
   "name": "python3"
  },
  "language_info": {
   "codemirror_mode": {
    "name": "ipython",
    "version": 3
   },
   "file_extension": ".py",
   "mimetype": "text/x-python",
   "name": "python",
   "nbconvert_exporter": "python",
   "pygments_lexer": "ipython3",
   "version": "3.6.1"
  }
 },
 "nbformat": 4,
 "nbformat_minor": 2
}
